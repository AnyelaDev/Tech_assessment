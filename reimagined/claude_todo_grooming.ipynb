{
 "cells": [
  {
   "cell_type": "markdown",
   "id": "notebook-intro",
   "metadata": {},
   "source": [
    "# Claude Sonnet Todo Grooming Proof of Concept\n",
    "\n",
    "This notebook demonstrates using Claude Sonnet to groom and enhance todo text statements."
   ]
  },
  {
   "cell_type": "markdown",
   "id": "setup-header",
   "metadata": {},
   "source": [
    "## Setup and Configuration"
   ]
  },
  {
   "cell_type": "code",
   "execution_count": null,
   "id": "setup-imports",
   "metadata": {},
   "outputs": [],
   "source": [
    "import requests\n",
    "import json\n",
    "import os\n",
    "from dotenv import load_dotenv\n",
    "\n",
    "# Load environment variables\n",
    "load_dotenv()\n",
    "\n",
    "print(\"Environment loaded successfully!\")"
   ]
  },
  {
   "cell_type": "code",
   "execution_count": null,
   "id": "claude-config",
   "metadata": {},
   "outputs": [],
   "source": "# Claude API configuration\nCLAUDE_API_KEY = os.getenv('CLAUDE_API_KEY')\nCLAUDE_API_URL = 'https://api.anthropic.com/v1/messages'\n\nif not CLAUDE_API_KEY:\n    print(\"⚠️  Please set CLAUDE_API_KEY environment variable\")\n    print(\"Get your API key from: https://console.anthropic.com/\")\nelse:\n    print(\"✓ Claude API key configured\")\n\n# Headers for Claude API\nheaders = {\n    'Content-Type': 'application/json',\n    'x-api-key': CLAUDE_API_KEY,\n    'anthropic-version': '2023-06-01'\n}"
  },
  {
   "cell_type": "markdown",
   "id": "grooming-function-header",
   "metadata": {},
   "source": [
    "## Todo Grooming Function"
   ]
  },
  {
   "cell_type": "code",
   "execution_count": null,
   "id": "grooming-function",
   "metadata": {},
   "outputs": [],
   "source": "def groom_todo_with_claude(todo_text, context=\"\"):\n    \"\"\"\n    Uses Claude Sonnet to groom and enhance a todo text statement.\n    \n    Args:\n        todo_text (str): The original todo text to be groomed\n        context (str): Additional context about the project or task\n    \n    Returns:\n        dict: Contains original text, groomed text, and analysis\n    \"\"\"\n    \n    if not CLAUDE_API_KEY:\n        return {\"error\": \"Claude API key not configured\"}\n    \n    prompt = f\"\"\"\nYou are an expert project manager and software developer. Your task is to groom and enhance todo statements to make them more actionable, specific, and valuable for development work.\n\nOriginal todo: \"{todo_text}\"\n\nAdditional context: {context if context else \"No additional context provided\"}\n\nPlease provide:\n1. **Groomed Todo**: A refined version that is more specific, actionable, and clear\n2. **Priority**: High/Medium/Low based on the task importance\n3. **Estimated Effort**: Time estimate (e.g., 30min, 2hr, 1 day)\n4. **Dependencies**: Any potential dependencies or prerequisites\n5. **Acceptance Criteria**: 2-3 bullet points defining \"done\"\n6. **Breakdown**: If the task is complex, suggest sub-tasks\n\nFormat your response as structured text, not JSON.\n\"\"\"\n    \n    payload = {\n        \"model\": \"claude-3-5-sonnet-20241022\",\n        \"max_tokens\": 1000,\n        \"messages\": [\n            {\n                \"role\": \"user\",\n                \"content\": prompt\n            }\n        ]\n    }\n    \n    try:\n        response = requests.post(CLAUDE_API_URL, headers=headers, json=payload)\n        response.raise_for_status()\n        \n        result = response.json()\n        groomed_content = result['content'][0]['text']\n        \n        return {\n            \"success\": True,\n            \"original_todo\": todo_text,\n            \"groomed_analysis\": groomed_content,\n            \"context\": context\n        }\n        \n    except requests.exceptions.RequestException as e:\n        return {\n            \"success\": False,\n            \"error\": f\"API request failed: {str(e)}\",\n            \"original_todo\": todo_text\n        }\n    except Exception as e:\n        return {\n            \"success\": False,\n            \"error\": f\"Unexpected error: {str(e)}\",\n            \"original_todo\": todo_text\n        }"
  },
  {
   "cell_type": "markdown",
   "id": "test-cases-header",
   "metadata": {},
   "source": [
    "## Test Cases"
   ]
  },
  {
   "cell_type": "code",
   "execution_count": null,
   "id": "test-case-1",
   "metadata": {},
   "outputs": [],
   "source": [
    "# Test Case 1: Basic todo statement\n",
    "print(\"=\" * 60)\n",
    "print(\"TEST CASE 1: Basic Todo Statement\")\n",
    "print(\"=\" * 60)\n",
    "\n",
    "todo1 = \"Fix the login bug\"\n",
    "context1 = \"Django web application with user authentication\"\n",
    "\n",
    "result1 = groom_todo_with_claude(todo1, context1)\n",
    "\n",
    "if result1.get('success'):\n",
    "    print(f\"Original: {result1['original_todo']}\")\n",
    "    print(f\"Context: {result1['context']}\")\n",
    "    print(\"\\nGroomed Analysis:\")\n",
    "    print(result1['groomed_analysis'])\n",
    "else:\n",
    "    print(f\"Error: {result1.get('error')}\")"
   ]
  },
  {
   "cell_type": "code",
   "execution_count": null,
   "id": "test-case-2",
   "metadata": {},
   "outputs": [],
   "source": [
    "# Test Case 2: Vague todo statement\n",
    "print(\"\\n\" + \"=\" * 60)\n",
    "print(\"TEST CASE 2: Vague Todo Statement\")\n",
    "print(\"=\" * 60)\n",
    "\n",
    "todo2 = \"Improve the UI\"\n",
    "context2 = \"React-based task management application\"\n",
    "\n",
    "result2 = groom_todo_with_claude(todo2, context2)\n",
    "\n",
    "if result2.get('success'):\n",
    "    print(f\"Original: {result2['original_todo']}\")\n",
    "    print(f\"Context: {result2['context']}\")\n",
    "    print(\"\\nGroomed Analysis:\")\n",
    "    print(result2['groomed_analysis'])\n",
    "else:\n",
    "    print(f\"Error: {result2.get('error')}\")"
   ]
  },
  {
   "cell_type": "code",
   "execution_count": null,
   "id": "test-case-3",
   "metadata": {},
   "outputs": [],
   "source": [
    "# Test Case 3: Complex technical todo\n",
    "print(\"\\n\" + \"=\" * 60)\n",
    "print(\"TEST CASE 3: Complex Technical Todo\")\n",
    "print(\"=\" * 60)\n",
    "\n",
    "todo3 = \"Add AI integration\"\n",
    "context3 = \"Python Django application for task management with existing PostgreSQL database\"\n",
    "\n",
    "result3 = groom_todo_with_claude(todo3, context3)\n",
    "\n",
    "if result3.get('success'):\n",
    "    print(f\"Original: {result3['original_todo']}\")\n",
    "    print(f\"Context: {result3['context']}\")\n",
    "    print(\"\\nGroomed Analysis:\")\n",
    "    print(result3['groomed_analysis'])\n",
    "else:\n",
    "    print(f\"Error: {result3.get('error')}\")"
   ]
  },
  {
   "cell_type": "markdown",
   "id": "interactive-section-header",
   "metadata": {},
   "source": [
    "## Interactive Todo Grooming"
   ]
  },
  {
   "cell_type": "code",
   "execution_count": null,
   "id": "interactive-grooming",
   "metadata": {},
   "outputs": [],
   "source": [
    "# Interactive cell - modify these variables and run the cell\n",
    "your_todo = \"Make the app faster\"\n",
    "your_context = \"Web application with database performance issues\"\n",
    "\n",
    "print(\"=\" * 60)\n",
    "print(\"INTERACTIVE TODO GROOMING\")\n",
    "print(\"=\" * 60)\n",
    "\n",
    "result = groom_todo_with_claude(your_todo, your_context)\n",
    "\n",
    "if result.get('success'):\n",
    "    print(f\"Original: {result['original_todo']}\")\n",
    "    print(f\"Context: {result['context']}\")\n",
    "    print(\"\\nGroomed Analysis:\")\n",
    "    print(result['groomed_analysis'])\n",
    "else:\n",
    "    print(f\"Error: {result.get('error')}\")"
   ]
  },
  {
   "cell_type": "markdown",
   "id": "batch-processing-header",
   "metadata": {},
   "source": [
    "## Batch Processing Multiple Todos"
   ]
  },
  {
   "cell_type": "code",
   "execution_count": null,
   "id": "batch-processing",
   "metadata": {},
   "outputs": [],
   "source": [
    "# Batch process multiple todos\n",
    "todos_batch = [\n",
    "    {\"todo\": \"Update documentation\", \"context\": \"Python API project\"},\n",
    "    {\"todo\": \"Add tests\", \"context\": \"Django web application\"},\n",
    "    {\"todo\": \"Optimize database queries\", \"context\": \"PostgreSQL database with slow queries\"},\n",
    "    {\"todo\": \"Implement caching\", \"context\": \"High-traffic web application\"}\n",
    "]\n",
    "\n",
    "print(\"=\" * 60)\n",
    "print(\"BATCH PROCESSING TODOS\")\n",
    "print(\"=\" * 60)\n",
    "\n",
    "for i, item in enumerate(todos_batch, 1):\n",
    "    print(f\"\\n--- Processing Todo {i} ---\")\n",
    "    result = groom_todo_with_claude(item[\"todo\"], item[\"context\"])\n",
    "    \n",
    "    if result.get('success'):\n",
    "        print(f\"Original: {result['original_todo']}\")\n",
    "        print(\"Groomed version (first 200 chars):\")\n",
    "        groomed_preview = result['groomed_analysis'][:200] + \"...\" if len(result['groomed_analysis']) > 200 else result['groomed_analysis']\n",
    "        print(groomed_preview)\n",
    "    else:\n",
    "        print(f\"Error: {result.get('error')}\")\n",
    "    \n",
    "    print(\"-\" * 40)"
   ]
  },
  {
   "cell_type": "markdown",
   "id": "summary-header",
   "metadata": {},
   "source": [
    "## Summary and Next Steps\n",
    "\n",
    "This proof of concept demonstrates how Claude Sonnet can be used to:\n",
    "\n",
    "1. **Transform vague todos** into specific, actionable tasks\n",
    "2. **Add structure** with priority, effort estimates, and acceptance criteria\n",
    "3. **Identify dependencies** and potential blockers\n",
    "4. **Break down complex tasks** into manageable sub-tasks\n",
    "5. **Provide context-aware suggestions** based on the technology stack\n",
    "\n",
    "### Potential Integrations:\n",
    "- **Project Management Tools**: Jira, Trello, Asana\n",
    "- **Development Workflows**: GitHub Issues, GitLab Issues\n",
    "- **Team Communication**: Slack, Microsoft Teams\n",
    "- **Task Management**: Todoist, Any.do\n"
   ]
  }
 ],
 "metadata": {
  "kernelspec": {
   "display_name": "Reimagined Python",
   "language": "python",
   "name": "reimagined_env"
  },
  "language_info": {
   "codemirror_mode": {
    "name": "ipython",
    "version": 3
   },
   "file_extension": ".py",
   "mimetype": "text/x-python",
   "name": "python",
   "nbconvert_exporter": "python",
   "pygments_lexer": "ipython3",
   "version": "3.10.12"
  }
 },
 "nbformat": 4,
 "nbformat_minor": 5
}