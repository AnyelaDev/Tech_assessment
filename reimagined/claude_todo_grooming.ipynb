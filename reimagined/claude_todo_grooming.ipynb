{
 "cells": [
  {
   "cell_type": "markdown",
   "id": "notebook-intro",
   "metadata": {},
   "source": [
    "# Claude Sonnet Todo Grooming Proof of Concept\n",
    "\n",
    "This notebook demonstrates using Claude Sonnet to groom and enhance todo text statements."
   ]
  },
  {
   "cell_type": "markdown",
   "id": "setup-header",
   "metadata": {},
   "source": [
    "## Setup and Configuration"
   ]
  },
  {
   "cell_type": "code",
   "execution_count": 1,
   "id": "setup-imports",
   "metadata": {},
   "outputs": [
    {
     "name": "stdout",
     "output_type": "stream",
     "text": [
      "Environment loaded successfully!\n"
     ]
    }
   ],
   "source": [
    "import requests\n",
    "import json\n",
    "import os\n",
    "from dotenv import load_dotenv\n",
    "\n",
    "# Load environment variables\n",
    "load_dotenv()\n",
    "\n",
    "print(\"Environment loaded successfully!\")"
   ]
  },
  {
   "cell_type": "code",
   "execution_count": 2,
   "id": "claude-config",
   "metadata": {},
   "outputs": [
    {
     "name": "stdout",
     "output_type": "stream",
     "text": [
      "✓ Claude API key configured\n"
     ]
    }
   ],
   "source": [
    "# Claude API configuration\n",
    "CLAUDE_API_KEY = os.getenv('CLAUDE_API_KEY')\n",
    "CLAUDE_API_URL = 'https://api.anthropic.com/v1/messages'\n",
    "\n",
    "if not CLAUDE_API_KEY:\n",
    "    print(\"⚠️  Please set CLAUDE_API_KEY environment variable\")\n",
    "    print(\"Get your API key from: https://console.anthropic.com/\")\n",
    "else:\n",
    "    print(\"✓ Claude API key configured\")\n",
    "\n",
    "# Headers for Claude API\n",
    "headers = {\n",
    "    'Content-Type': 'application/json',\n",
    "    'x-api-key': CLAUDE_API_KEY,\n",
    "    'anthropic-version': '2023-06-01'\n",
    "}"
   ]
  },
  {
   "cell_type": "markdown",
   "id": "grooming-function-header",
   "metadata": {},
   "source": [
    "## Todo Grooming Function"
   ]
  },
  {
   "cell_type": "code",
   "execution_count": null,
   "id": "grooming-function",
   "metadata": {},
   "outputs": [],
   "source": [
    "def groom_todo_with_claude(todo_text, context=\"\"):\n",
    "    \"\"\"\n",
    "    Uses Claude Sonnet to groom and enhance a todo text statement from a user.\n",
    "    \n",
    "    Args:\n",
    "        todo_text (str): The original todo text to be groomed\n",
    "        context (str): Additional context about the project or task\n",
    "    \n",
    "    Returns:\n",
    "        dict: Contains original text, groomed text, and analysis\n",
    "    \"\"\"\n",
    "    \n",
    "    if not CLAUDE_API_KEY:\n",
    "        return {\"error\": \"Claude API key not configured\"}\n",
    "    \n",
    "    prompt = f\"\"\"\n",
    "You are a personal assistant. Your client will give you a text expressing things they must get done. Your task is to understand what is overwhelming the user, breakdown big tasks in smaller tasks and add them to the list. Identify individual tasks and suggest realistic time intervals in which each task could be done. Reword each task and make them more actionable and specific, no fluff, no emojis.\n",
    "\n",
    "Original todo: \"{todo_text}\"\n",
    "\n",
    "Additional context: {context if context else \"No additional context provided\"}\n",
    "\n",
    "Please provide:\n",
    "1. A list of actionable tasks derived from the original todo in the form of a JSON array. each object in the array should have:\n",
    "   - \"task\": the reworded task\n",
    "   - \"task_id\": a unique identifier for the task, which should be a hexadecimal string of 4 bytes\n",
    "   - \"time_estimate\": a realistic time estimate for completion (in hh:mm format). time estimates should be realistic and not too short\n",
    "   - \"dependencies\": an array of tasks_id that are blocked if this one is not done yet (if any)\n",
    "   - \"priority\": a priority level (low, medium, high)\n",
    "2. A brief analysis of the original todo text, explaining the breakdown and reasoning behind the tasks. as concise as possible.\n",
    "\n",
    "Format your response as a JSON.\n",
    "\"\"\"\n",
    "    \n",
    "    payload = {\n",
    "        \"model\": \"claude-3-5-sonnet-20241022\",\n",
    "        \"max_tokens\": 1000,\n",
    "        \"messages\": [\n",
    "            {\n",
    "                \"role\": \"user\",\n",
    "                \"content\": prompt\n",
    "            }\n",
    "        ]\n",
    "    }\n",
    "    \n",
    "    try:\n",
    "        response = requests.post(CLAUDE_API_URL, headers=headers, json=payload)\n",
    "        response.raise_for_status()\n",
    "        \n",
    "        result = response.json()\n",
    "        groomed_content = result['content'][0]['text']\n",
    "        \n",
    "        return {\n",
    "            \"success\": True,\n",
    "            \"original_todo\": todo_text,\n",
    "            \"groomed_analysis\": groomed_content,\n",
    "            \"context\": context\n",
    "        }\n",
    "        \n",
    "    except requests.exceptions.RequestException as e:\n",
    "        return {\n",
    "            \"success\": False,\n",
    "            \"error\": f\"API request failed: {str(e)}\",\n",
    "            \"original_todo\": todo_text\n",
    "        }\n",
    "    except Exception as e:\n",
    "        return {\n",
    "            \"success\": False,\n",
    "            \"error\": f\"Unexpected error: {str(e)}\",\n",
    "            \"original_todo\": todo_text\n",
    "        }"
   ]
  },
  {
   "cell_type": "markdown",
   "id": "test-cases-header",
   "metadata": {},
   "source": [
    "## Test Cases"
   ]
  },
  {
   "cell_type": "code",
   "execution_count": 4,
   "id": "test-case-1",
   "metadata": {},
   "outputs": [
    {
     "name": "stdout",
     "output_type": "stream",
     "text": [
      "============================================================\n",
      "TEST CASE 1: Basic Todo Statement\n",
      "============================================================\n",
      "Original: wake up, tell my gramma to take her meds, call my mom, cook and eat breakfast, dont forget to brush my teeth, and get ready for work. get to the bus stop by 8:30am, and then get to work by 9:00am. I need to finish the report by 10:00am, and then have a meeting with the team at 11:00am. After that, I need to review the project plan and send feedback by 1:00pm. Finally, I need to prepare for the presentation tomorrow. I should make time for eat a snack and take a break in between tasks.\n",
      "Context: I need help with my morning routine. I get stressed with big tasks\n",
      "\n",
      "Groomed Analysis:\n",
      "{\n",
      "  \"analysis\": \"The todo list shows a morning routine followed by work tasks. The main stressors appear to be time-sensitive work deliverables and managing personal care alongside professional responsibilities. I've broken down the morning routine into smaller, specific actions and separated work tasks with clear time allocations. Built in buffer times for transitions and breaks to reduce stress.\",\n",
      "  \n",
      "  \"tasks\": [\n",
      "    {\n",
      "      \"task_id\": \"a101\",\n",
      "      \"task\": \"Set morning alarm for 6:30am\",\n",
      "      \"time_estimate\": \"00:01\",\n",
      "      \"dependencies\": [],\n",
      "      \"priority\": \"high\"\n",
      "    },\n",
      "    {\n",
      "      \"task_id\": \"a102\",\n",
      "      \"task\": \"Call grandmother for medication reminder\",\n",
      "      \"time_estimate\": \"00:05\",\n",
      "      \"dependencies\": [\"a101\"],\n",
      "      \"priority\": \"high\"\n",
      "    },\n",
      "    {\n",
      "      \"task_id\": \"a103\",\n",
      "      \"task\": \"Call mother\",\n",
      "      \"time_estimate\": \"00:10\",\n",
      "      \"dependencies\": [\"a102\"],\n",
      "      \"priority\": \"medium\"\n",
      "    },\n",
      "    {\n",
      "      \"task_id\": \"a104\",\n",
      "      \"task\": \"Prepare and cook breakfast\",\n",
      "      \"time_estimate\": \"00:20\",\n",
      "      \"dependencies\": [\"a101\"],\n",
      "      \"priority\": \"high\"\n",
      "    },\n",
      "    {\n",
      "      \"task_id\": \"a105\",\n",
      "      \"task\": \"Eat breakfast\",\n",
      "      \"time_estimate\": \"00:15\",\n",
      "      \"dependencies\": [\"a104\"],\n",
      "      \"priority\": \"high\"\n",
      "    },\n",
      "    {\n",
      "      \"task_id\": \"a106\",\n",
      "      \"task\": \"Complete morning hygiene routine\",\n",
      "      \"time_estimate\": \"00:20\",\n",
      "      \"dependencies\": [\"a105\"],\n",
      "      \"priority\": \"high\"\n",
      "    },\n",
      "    {\n",
      "      \"task_id\": \"a107\",\n",
      "      \"task\": \"Walk to bus stop\",\n",
      "      \"time_estimate\": \"00:15\",\n",
      "      \"dependencies\": [\"a106\"],\n",
      "      \"priority\": \"high\"\n",
      "    },\n",
      "    {\n",
      "      \"task_id\": \"b201\",\n",
      "      \"task\": \"Complete pending sections of report\",\n",
      "      \"time_estimate\": \"00:45\",\n",
      "      \"dependencies\": [],\n",
      "      \"priority\": \"high\"\n",
      "    },\n",
      "    {\n",
      "      \"task_id\": \"b202\",\n",
      "      \"task\": \"Review and proofread report\",\n",
      "      \"time_estimate\": \"00:15\",\n",
      "      \"dependencies\": [\"b201\"],\n",
      "      \"priority\": \"high\"\n",
      "    },\n",
      "    {\n",
      "      \"task_id\": \"b203\",\n",
      "      \"task\": \"Attend team meeting\",\n",
      "      \"time_estimate\": \"01:00\",\n",
      "      \"dependencies\": [\"b202\"],\n",
      "      \"priority\": \"high\"\n",
      "    },\n",
      "    {\n",
      "      \"task_id\": \"b204\",\n",
      "      \"task\": \"Take lunch break\",\n",
      "      \"time_estimate\": \"00:30\",\n",
      "      \"dependencies\": [\"b203\"],\n",
      "      \"priority\": \"medium\"\n",
      "    },\n",
      "    {\n",
      "      \"task_id\": \"b205\",\n",
      "      \"task\": \"Review project plan documentation\",\n",
      "      \"time_estimate\": \"00:45\",\n",
      "      \"dependencies\": [\"b204\"],\n",
      "      \"priority\": \"high\"\n",
      "    },\n",
      "    {\n",
      "      \"task_id\": \"b206\",\n",
      "      \"task\": \"Draft and send project feedback email\",\n",
      "      \"time_estimate\": \"00:30\",\n",
      "      \"dependencies\": [\"b205\"],\n",
      "      \"priority\": \"high\"\n",
      "    },\n",
      "    {\n",
      "      \"task_id\": \"b207\",\n",
      "      \"task\": \"Create presentation outline\",\n",
      "      \"time_estimate\": \"00:30\",\n",
      "      \"dependencies\": [\"b206\"],\n",
      "      \"priority\": \"high\"\n",
      "    },\n",
      "    {\n",
      "      \"task_id\": \"b208\",\n",
      "      \"task\": \"Prepare presentation slides\",\n",
      "      \"time_estimate\": \"01:30\",\n",
      "      \"dependencies\": [\"b207\"],\n",
      "      \"priority\": \"high\"\n",
      "    }\n",
      "  ]\n",
      "}\n"
     ]
    }
   ],
   "source": [
    "# Test Case 1: Basic todo statement\n",
    "print(\"=\" * 60)\n",
    "print(\"TEST CASE 1: Basic Todo Statement\")\n",
    "print(\"=\" * 60)\n",
    "\n",
    "todo1 = \"wake up, tell my gramma to take her meds, call my mom, cook and eat breakfast, dont forget to brush my teeth, and get ready for work. get to the bus stop by 8:30am, and then get to work by 9:00am. I need to finish the report by 10:00am, and then have a meeting with the team at 11:00am. After that, I need to review the project plan and send feedback by 1:00pm. Finally, I need to prepare for the presentation tomorrow. I should make time for eat a snack and take a break in between tasks.\"\n",
    "context1 = \"I need help with my morning routine. I get stressed with big tasks\"\n",
    "\n",
    "result1 = groom_todo_with_claude(todo1, context1)\n",
    "\n",
    "if result1.get('success'):\n",
    "    print(f\"Original: {result1['original_todo']}\")\n",
    "    print(f\"Context: {result1['context']}\")\n",
    "    print(\"\\nGroomed Analysis:\")\n",
    "    print(result1['groomed_analysis'])\n",
    "else:\n",
    "    print(f\"Error: {result1.get('error')}\")"
   ]
  },
  {
   "cell_type": "code",
   "execution_count": 5,
   "id": "test-case-2",
   "metadata": {},
   "outputs": [],
   "source": [
    "# Test Case 2: Vague todo statement"
   ]
  },
  {
   "cell_type": "code",
   "execution_count": 6,
   "id": "test-case-3",
   "metadata": {},
   "outputs": [],
   "source": [
    "# Test Case 3: Complex technical todo"
   ]
  },
  {
   "cell_type": "markdown",
   "id": "interactive-section-header",
   "metadata": {},
   "source": [
    "## Interactive Todo Grooming"
   ]
  },
  {
   "cell_type": "code",
   "execution_count": 7,
   "id": "interactive-grooming",
   "metadata": {},
   "outputs": [],
   "source": [
    "# Interactive cell - modify these variables and run the cell"
   ]
  },
  {
   "cell_type": "markdown",
   "id": "batch-processing-header",
   "metadata": {},
   "source": [
    "## Batch Processing Multiple Todos"
   ]
  },
  {
   "cell_type": "code",
   "execution_count": 8,
   "id": "batch-processing",
   "metadata": {},
   "outputs": [],
   "source": [
    "# Batch process multiple todos\n",
    "# todos_batch = [\n",
    "#     {\"todo\": \"Update documentation\", \"context\": \"Python API project\"},\n",
    "#     {\"todo\": \"Add tests\", \"context\": \"Django web application\"},\n",
    "#     {\"todo\": \"Optimize database queries\", \"context\": \"PostgreSQL database with slow queries\"},\n",
    "#     {\"todo\": \"Implement caching\", \"context\": \"High-traffic web application\"}\n",
    "# ]\n",
    "\n",
    "# print(\"=\" * 60)\n",
    "# print(\"BATCH PROCESSING TODOS\")\n",
    "# print(\"=\" * 60)\n",
    "\n",
    "# for i, item in enumerate(todos_batch, 1):\n",
    "#     print(f\"\\n--- Processing Todo {i} ---\")\n",
    "#     result = groom_todo_with_claude(item[\"todo\"], item[\"context\"])\n",
    "    \n",
    "#     if result.get('success'):\n",
    "#         print(f\"Original: {result['original_todo']}\")\n",
    "#         print(\"Groomed version (first 200 chars):\")\n",
    "#         groomed_preview = result['groomed_analysis'][:200] + \"...\" if len(result['groomed_analysis']) > 200 else result['groomed_analysis']\n",
    "#         print(groomed_preview)\n",
    "#     else:\n",
    "#         print(f\"Error: {result.get('error')}\")\n",
    "    \n",
    "#     print(\"-\" * 40)"
   ]
  },
  {
   "cell_type": "markdown",
   "id": "summary-header",
   "metadata": {},
   "source": [
    "## Summary and Next Steps\n",
    "\n",
    "This proof of concept demonstrates how Claude Sonnet can be used to:\n",
    "\n",
    "1. **Transform vague todos** into specific, actionable tasks\n",
    "2. **Add structure** with priority, effort estimates, and acceptance criteria\n",
    "3. **Identify dependencies** and potential blockers\n",
    "4. **Break down complex tasks** into manageable sub-tasks\n",
    "5. **Provide context-aware suggestions** based on the technology stack\n",
    "\n",
    "### Potential Integrations:\n",
    "- **Project Management Tools**: Jira, Trello, Asana\n",
    "- **Development Workflows**: GitHub Issues, GitLab Issues\n",
    "- **Team Communication**: Slack, Microsoft Teams\n",
    "- **Task Management**: Todoist, Any.do\n"
   ]
  }
 ],
 "metadata": {
  "kernelspec": {
   "display_name": "Reimagined Python",
   "language": "python",
   "name": "reimagined_env"
  },
  "language_info": {
   "codemirror_mode": {
    "name": "ipython",
    "version": 3
   },
   "file_extension": ".py",
   "mimetype": "text/x-python",
   "name": "python",
   "nbconvert_exporter": "python",
   "pygments_lexer": "ipython3",
   "version": "3.10.12"
  }
 },
 "nbformat": 4,
 "nbformat_minor": 5
}
