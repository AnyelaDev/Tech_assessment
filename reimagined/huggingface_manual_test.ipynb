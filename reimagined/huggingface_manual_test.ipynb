{
 "cells": [
  {
   "cell_type": "markdown",
   "metadata": {},
   "source": [
    "# Hugging Face Manual Testing Notebook\n",
    "\n",
    "This notebook provides manual testing capabilities for the Hugging Face functionality in the application."
   ]
  },
  {
   "cell_type": "markdown",
   "metadata": {},
   "source": [
    "## Setup and Imports"
   ]
  },
  {
   "cell_type": "code",
   "execution_count": null,
   "metadata": {},
   "outputs": [],
   "source": [
    "import os\n",
    "from transformers import pipeline\n",
    "from dotenv import load_dotenv\n",
    "\n",
    "# Load environment variables\n",
    "load_dotenv()\n",
    "\n",
    "print(\"Environment loaded successfully!\")"
   ]
  },
  {
   "cell_type": "markdown",
   "metadata": {},
   "source": [
    "## Environment Variables Check"
   ]
  },
  {
   "cell_type": "code",
   "execution_count": null,
   "metadata": {},
   "outputs": [],
   "source": [
    "# Check if required environment variables are set\n",
    "model_name = os.getenv('HUGGINGFACE_MODEL')\n",
    "api_key = os.getenv('HUGGINGFACE_API_KEY')\n",
    "\n",
    "print(f\"Model Name: {'✓ Set' if model_name else '✗ Not set'}\")\n",
    "print(f\"API Key: {'✓ Set' if api_key else '✗ Not set'}\")\n",
    "\n",
    "if model_name:\n",
    "    print(f\"Using model: {model_name}\")\n",
    "else:\n",
    "    print(\"⚠️  Please set HUGGINGFACE_MODEL environment variable\")\n",
    "    \n",
    "if not api_key:\n",
    "    print(\"⚠️  Please set HUGGINGFACE_API_KEY environment variable\")"
   ]
  },
  {
   "cell_type": "markdown",
   "metadata": {},
   "source": [
    "## Initialize Pipeline"
   ]
  },
  {
   "cell_type": "code",
   "execution_count": null,
   "metadata": {},
   "outputs": [],
   "source": [
    "# Initialize the text generation pipeline\n",
    "try:\n",
    "    if not model_name or not api_key:\n",
    "        raise ValueError(\"Missing required environment variables\")\n",
    "    \n",
    "    print(\"Initializing pipeline...\")\n",
    "    generator = pipeline(\"text2text-generation\", model=model_name, token=api_key)\n",
    "    print(\"✓ Pipeline initialized successfully!\")\n",
    "    \n",
    "except Exception as e:\n",
    "    print(f\"✗ Error initializing pipeline: {e}\")\n",
    "    generator = None"
   ]
  },
  {
   "cell_type": "markdown",
   "metadata": {},
   "source": [
    "## Test 1: Basic Hello World Test (from helloworld_hf.py)"
   ]
  },
  {
   "cell_type": "code",
   "execution_count": null,
   "metadata": {},
   "outputs": [],
   "source": [
    "if generator:\n",
    "    prompt = \"Hello, world! Please introduce yourself and tell me what you can do.\"\n",
    "    \n",
    "    print(f\"Prompt: {prompt}\")\n",
    "    print(\"Generating response...\")\n",
    "    \n",
    "    try:\n",
    "        result = generator(prompt, max_length=100, num_return_sequences=1)\n",
    "        print(f\"Response: {result[0]['generated_text']}\")\n",
    "    except Exception as e:\n",
    "        print(f\"Error: {e}\")\n",
    "else:\n",
    "    print(\"⚠️  Pipeline not initialized. Please check environment variables and run the pipeline initialization cell.\")"
   ]
  },
  {
   "cell_type": "markdown",
   "metadata": {},
   "source": [
    "## Test 2: Custom Prompt Testing"
   ]
  },
  {
   "cell_type": "code",
   "execution_count": null,
   "metadata": {},
   "outputs": [],
   "source": [
    "# Interactive prompt testing\n",
    "def test_custom_prompt(prompt, max_length=150):\n",
    "    if not generator:\n",
    "        print(\"⚠️  Pipeline not initialized\")\n",
    "        return\n",
    "    \n",
    "    print(f\"Testing prompt: '{prompt}'\")\n",
    "    print(\"-\" * 50)\n",
    "    \n",
    "    try:\n",
    "        result = generator(prompt, max_length=max_length, num_return_sequences=1)\n",
    "        print(f\"Response: {result[0]['generated_text']}\")\n",
    "        print(\"\\n\" + \"=\"*50 + \"\\n\")\n",
    "    except Exception as e:\n",
    "        print(f\"Error: {e}\")\n",
    "        print(\"\\n\" + \"=\"*50 + \"\\n\")\n",
    "\n",
    "# Test with different prompts\n",
    "test_prompts = [\n",
    "    \"Explain machine learning in simple terms.\",\n",
    "    \"Write a short story about a robot.\",\n",
    "    \"What are the benefits of renewable energy?\"\n",
    "]\n",
    "\n",
    "for prompt in test_prompts:\n",
    "    test_custom_prompt(prompt)"
   ]
  },
  {
   "cell_type": "markdown",
   "metadata": {},
   "source": [
    "## Test 3: Parameter Testing"
   ]
  },
  {
   "cell_type": "code",
   "execution_count": null,
   "metadata": {},
   "outputs": [],
   "source": [
    "# Test different parameter settings\n",
    "if generator:\n",
    "    test_prompt = \"The future of artificial intelligence is\"\n",
    "    \n",
    "    print(\"Testing different max_length parameters:\")\n",
    "    print(\"=\"*60)\n",
    "    \n",
    "    for max_len in [50, 100, 200]:\n",
    "        print(f\"\\nMax length: {max_len}\")\n",
    "        print(\"-\" * 30)\n",
    "        \n",
    "        try:\n",
    "            result = generator(test_prompt, max_length=max_len, num_return_sequences=1)\n",
    "            print(f\"Result: {result[0]['generated_text']}\")\n",
    "        except Exception as e:\n",
    "            print(f\"Error: {e}\")\n",
    "else:\n",
    "    print(\"⚠️  Pipeline not initialized\")"
   ]
  },
  {
   "cell_type": "markdown",
   "metadata": {},
   "source": [
    "## Test 4: Multiple Sequences Generation"
   ]
  },
  {
   "cell_type": "code",
   "execution_count": null,
   "metadata": {},
   "outputs": [],
   "source": [
    "# Test generating multiple sequences\n",
    "if generator:\n",
    "    prompt = \"Complete this sentence: The most important thing about programming is\"\n",
    "    \n",
    "    print(f\"Generating 3 different completions for: '{prompt}'\")\n",
    "    print(\"=\"*70)\n",
    "    \n",
    "    try:\n",
    "        results = generator(prompt, max_length=80, num_return_sequences=3)\n",
    "        \n",
    "        for i, result in enumerate(results, 1):\n",
    "            print(f\"\\nOption {i}: {result['generated_text']}\")\n",
    "            \n",
    "    except Exception as e:\n",
    "        print(f\"Error: {e}\")\n",
    "else:\n",
    "    print(\"⚠️  Pipeline not initialized\")"
   ]
  },
  {
   "cell_type": "markdown",
   "metadata": {},
   "source": [
    "## Interactive Testing Cell"
   ]
  },
  {
   "cell_type": "code",
   "execution_count": null,
   "metadata": {},
   "outputs": [],
   "source": [
    "# Use this cell for interactive testing\n",
    "# Modify the variables below and run the cell\n",
    "\n",
    "your_prompt = \"Write a haiku about coding.\"\n",
    "your_max_length = 100\n",
    "your_num_sequences = 1\n",
    "\n",
    "if generator:\n",
    "    print(f\"Your prompt: '{your_prompt}'\")\n",
    "    print(\"\\nGenerating...\")\n",
    "    print(\"-\" * 40)\n",
    "    \n",
    "    try:\n",
    "        results = generator(\n",
    "            your_prompt, \n",
    "            max_length=your_max_length, \n",
    "            num_return_sequences=your_num_sequences\n",
    "        )\n",
    "        \n",
    "        for i, result in enumerate(results, 1):\n",
    "            if your_num_sequences > 1:\n",
    "                print(f\"\\nResult {i}: {result['generated_text']}\")\n",
    "            else:\n",
    "                print(f\"\\nResult: {result['generated_text']}\")\n",
    "                \n",
    "    except Exception as e:\n",
    "        print(f\"Error: {e}\")\n",
    "else:\n",
    "    print(\"⚠️  Pipeline not initialized. Please run the setup cells first.\")"
   ]
  },
  {
   "cell_type": "markdown",
   "metadata": {},
   "source": [
    "## Troubleshooting and Debugging"
   ]
  },
  {
   "cell_type": "code",
   "execution_count": null,
   "metadata": {},
   "outputs": [],
   "source": [
    "# Debugging information\n",
    "print(\"System Information:\")\n",
    "print(\"=\"*30)\n",
    "print(f\"Python version: {os.sys.version}\")\n",
    "\n",
    "try:\n",
    "    import transformers\n",
    "    print(f\"Transformers version: {transformers.__version__}\")\n",
    "except ImportError:\n",
    "    print(\"⚠️  Transformers library not installed\")\n",
    "\n",
    "try:\n",
    "    import torch\n",
    "    print(f\"PyTorch version: {torch.__version__}\")\n",
    "    print(f\"CUDA available: {torch.cuda.is_available()}\")\n",
    "except ImportError:\n",
    "    print(\"⚠️  PyTorch not installed\")\n",
    "\n",
    "print(\"\\nEnvironment Variables:\")\n",
    "print(\"-\"*30)\n",
    "for key in ['HUGGINGFACE_MODEL', 'HUGGINGFACE_API_KEY']:\n",
    "    value = os.getenv(key)\n",
    "    if value:\n",
    "        if 'KEY' in key or 'TOKEN' in key:\n",
    "            print(f\"{key}: {'*' * min(len(value), 10)}\")\n",
    "        else:\n",
    "            print(f\"{key}: {value}\")\n",
    "    else:\n",
    "        print(f\"{key}: Not set\")"
   ]
  }
 ],
 "metadata": {
  "kernelspec": {
   "display_name": "Python 3",
   "language": "python",
   "name": "python3"
  },
  "language_info": {
   "codemirror_mode": {
    "name": "ipython",
    "version": 3
   },
   "file_extension": ".py",
   "mimetype": "text/x-python",
   "name": "python",
   "nbconvert_exporter": "python",
   "pygments_lexer": "ipython3",
   "version": "3.10.12"
  }
 },
 "nbformat": 4,
 "nbformat_minor": 4
}
